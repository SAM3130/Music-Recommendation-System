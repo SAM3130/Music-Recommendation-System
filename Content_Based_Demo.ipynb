{
 "cells": [
  {
   "cell_type": "code",
   "execution_count": 1,
   "metadata": {},
   "outputs": [],
   "source": [
    "%matplotlib notebook\n",
    "import matplotlib.pyplot as plt\n",
    "\n",
    "import numpy as np\n",
    "import pandas as pd\n",
    "\n",
    "import sympy\n",
    "from sympy import Matrix, init_printing\n",
    "\n",
    "from scipy.sparse.linalg import svds,eigs\n",
    "\n",
    "import sklearn\n",
    "from sklearn.feature_extraction.text import CountVectorizer\n",
    "from sklearn.metrics import mean_squared_error\n",
    "from sklearn.model_selection import train_test_split\n",
    "from sklearn.metrics.pairwise import cosine_similarity\n",
    "from sklearn.metrics.pairwise import cosine_distances\n",
    "from sklearn.metrics import pairwise_distances\n",
    "\n",
    "from time import time\n",
    "\n",
    "!pip install surprise\n",
    "import surprise\n",
    "from surprise import SVD\n",
    "from surprise import Dataset\n",
    "from surprise.model_selection import cross_validate\n",
    "\n",
    "init_printing()"
   ]
  },
  {
   "cell_type": "code",
   "execution_count": 2,
   "metadata": {},
   "outputs": [],
   "source": [
    "data = pd.read_csv('top50.csv',encoding = \"ISO-8859-1\")\n",
    "data.index = [data[\"Track.Name\"]]"
   ]
  },
  {
   "cell_type": "code",
   "execution_count": 3,
   "metadata": {},
   "outputs": [],
   "source": [
    "\n",
    "data = data[['Beats.Per.Minute',\n",
    "       'Energy', 'Danceability', 'Loudness..dB..', 'Liveness', 'Valence.',\n",
    "       'Length.', 'Acousticness..', 'Speechiness.', 'Popularity']]\n"
   ]
  },
  {
   "cell_type": "code",
   "execution_count": 4,
   "metadata": {},
   "outputs": [],
   "source": [
    "def index_to_instance(df,index=None):\n",
    "    if index:\n",
    "        return XYZ(df)[index][1]\n",
    "    else:\n",
    "        return XYZ(df)\n",
    "def XYZ(df):\n",
    "    return sorted(list(zip(list(df.index.codes[0].data),list(df.index.levels[0].array))))\n",
    "def value_to_index_map(array):\n",
    "    array1 = zip(array,range(len(array)))\n",
    "    return array1"
   ]
  },
  {
   "cell_type": "code",
   "execution_count": 8,
   "metadata": {
    "scrolled": true
   },
   "outputs": [
    {
     "data": {
      "text/plain": [
       "'One Thing Right'"
      ]
     },
     "execution_count": 8,
     "metadata": {},
     "output_type": "execute_result"
    }
   ],
   "source": [
    "index_to_instance(data,10)"
   ]
  },
  {
   "cell_type": "code",
   "execution_count": 5,
   "metadata": {},
   "outputs": [],
   "source": [
    "class RecSysContentBased():\n",
    "    def __init__(self):\n",
    "        pass\n",
    "    def fit(self,train):\n",
    "        self.train_set = train\n",
    "        df1 = cosine_similarity(train)\n",
    "        self.similarity = df1\n",
    "        self.distances = pairwise_distances(train,metric='euclidean')\n",
    "    def evaluate(self,user):\n",
    "        d = sorted(value_to_index_map(self.distances[user]))\n",
    "        return list(index_to_instance(self.train_set,d[i][1]) for i in range(len(d)))\n",
    "    def predict(self):\n",
    "        pass\n",
    "    def test(self,testset):\n",
    "        pass\n",
    "    "
   ]
  },
  {
   "cell_type": "code",
   "execution_count": 6,
   "metadata": {},
   "outputs": [],
   "source": [
    "model = RecSysContentBased()\n"
   ]
  },
  {
   "cell_type": "code",
   "execution_count": 7,
   "metadata": {},
   "outputs": [],
   "source": [
    "model.fit(data)"
   ]
  },
  {
   "cell_type": "code",
   "execution_count": 14,
   "metadata": {},
   "outputs": [
    {
     "name": "stdout",
     "output_type": "stream",
     "text": [
      "Top 5 Songs closest to One Thing Right are: \n",
      "0                                Old Town Road - Remix\n",
      "1                                              Happier\n",
      "2    fuck, i'm lonely (with Anne-Marie) - from 13 ...\n",
      "3                        boyfriend (with Social House)\n",
      "4                                             Takeaway\n",
      "dtype: object\n"
     ]
    }
   ],
   "source": [
    "print(\"Top 5 Songs closest to {0} are: \\n{1}\".format(index_to_instance(data,10),pd.Series(model.evaluate(10)[1:6])))"
   ]
  },
  {
   "cell_type": "code",
   "execution_count": null,
   "metadata": {},
   "outputs": [],
   "source": []
  }
 ],
 "metadata": {
  "kernelspec": {
   "display_name": "Python 3",
   "language": "python",
   "name": "python3"
  },
  "language_info": {
   "codemirror_mode": {
    "name": "ipython",
    "version": 3
   },
   "file_extension": ".py",
   "mimetype": "text/x-python",
   "name": "python",
   "nbconvert_exporter": "python",
   "pygments_lexer": "ipython3",
   "version": "3.7.3"
  }
 },
 "nbformat": 4,
 "nbformat_minor": 2
}
